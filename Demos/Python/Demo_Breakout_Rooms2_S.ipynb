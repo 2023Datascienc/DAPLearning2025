{
  "nbformat": 4,
  "nbformat_minor": 0,
  "metadata": {
    "colab": {
      "provenance": []
    },
    "kernelspec": {
      "name": "python3",
      "display_name": "Python 3"
    },
    "language_info": {
      "name": "python"
    }
  },
  "cells": [
    {
      "cell_type": "markdown",
      "source": [
        "## Calculating avergae of 2 or more elements"
      ],
      "metadata": {
        "id": "xZ5IMM3AsYw4"
      }
    },
    {
      "cell_type": "code",
      "source": [
        "# Best practice to have your function defined on one seperated code-cell\n",
        "#Please run it so Python will recognize it when you call it\n",
        "def get_avg(a,b):\n",
        "  return (a+b)/2"
      ],
      "metadata": {
        "id": "D0ZANn53GPTl"
      },
      "execution_count": null,
      "outputs": []
    },
    {
      "cell_type": "code",
      "execution_count": null,
      "metadata": {
        "id": "ev2EsrOC6DKd"
      },
      "outputs": [],
      "source": [
        "# Ask the user to enter 2 numbers and return the avergae\n",
        "user_input1=float(input(\"Enter first number: \"))\n",
        "user_input2=float(input(\"Enter second number: \"))\n",
        "# get_average=(user_input1+user_input2)/2 # I want to invok(Call) a function\n",
        "result=get_avg(user_input1,user_input2)\n",
        "\n",
        "print(f\"The average of {user_input1} and {user_input2} is {result}\")"
      ]
    },
    {
      "cell_type": "code",
      "source": [
        "#Make the code more generic so that the user can add more than one number\n",
        "#Try here before looking at the solution\n"
      ],
      "metadata": {
        "id": "3-qG9s-1JrK4"
      },
      "execution_count": null,
      "outputs": []
    },
    {
      "cell_type": "code",
      "source": [
        "# @title\n",
        "#let's define a function that can take many elements\n",
        "def get_average(*args):\n",
        "  total=0\n",
        "  for i in args:\n",
        "    total+=i\n",
        "  return total/len(args)"
      ],
      "metadata": {
        "cellView": "form",
        "id": "DxP6_jkzr6km"
      },
      "execution_count": null,
      "outputs": []
    },
    {
      "cell_type": "code",
      "source": [
        "# @title\n",
        "#Let's invoke this function\n",
        "get_average(1,2,3,4,5,6,7,8,9,10)"
      ],
      "metadata": {
        "cellView": "form",
        "id": "_EHAS0zDsQIH"
      },
      "execution_count": null,
      "outputs": []
    },
    {
      "cell_type": "markdown",
      "source": [
        "## Dictionnary Practices"
      ],
      "metadata": {
        "id": "UgReJLXjshR3"
      }
    },
    {
      "cell_type": "code",
      "source": [
        "#Ask students to enter their names, major, and store data in dictionary\n",
        "#how many student you are looking for? (think of loop)\n",
        "# number_student=int(input(\"Enter the number of students: \")) # To align with our objective, let's keep 5 students\n",
        "number_student=5\n",
        "#Think about how you will assign data to dict\n",
        "student_data=[]\n",
        "for i in range(number_student):\n",
        "  name=input(\"Enter your name: \")\n",
        "  major=input(\"Enter your major: \")\n",
        "  student_info={\n",
        "    \"name\":name,\n",
        "    \"major\":major\n",
        "  }\n",
        "  student_data.append(student_info)\n",
        "print(student_data)"
      ],
      "metadata": {
        "id": "SUVWZyln6yUJ"
      },
      "execution_count": null,
      "outputs": []
    },
    {
      "cell_type": "code",
      "source": [
        "#You've gotten updated with students grades and wanted to add grade for the current student\n",
        "# Think about how you will bring up data so you can add the grade\n",
        "#Remember, you have a list that contains elements and each element is a dict\n",
        "for student in student_data:\n",
        "  print(f\"\\nEnter grade for student:{student['name']}, with major {student['major']}\")\n",
        "  grade=float(input(f\"\\nEnter grade: \"))\n",
        "  student[\"grade\"]=grade\n",
        "print(student_data)"
      ],
      "metadata": {
        "id": "w4HIHh-f7l8S"
      },
      "execution_count": null,
      "outputs": []
    },
    {
      "cell_type": "code",
      "source": [
        "# Get for each major the total students enrolled and avergae grade\n",
        "#-------------------------------------\n",
        "#Before coding, try to visualize what you are trying to accomplish\n",
        "#try here\n"
      ],
      "metadata": {
        "id": "Ni1Rvhop7l_t"
      },
      "execution_count": null,
      "outputs": []
    },
    {
      "cell_type": "code",
      "source": [
        "# @title\n",
        "# Get for each major the total students enrolled and avergae grade\n",
        "major_average=[]\n",
        "#Get first a set of major we have\n",
        "major_set=set()  #Note we used the set because we can't have same major more than once\n",
        "for student in student_data:\n",
        "  major_set.add(student[\"major\"])\n",
        "#another loop to group data by major\n",
        "for major in major_set:\n",
        "  total_student=0 # for each time we read the loop we initilized total student = 0\n",
        "  total_grade=0 # same thing for here\n",
        "  for student in student_data:\n",
        "    if student[\"major\"]==major:\n",
        "      total_student+=1\n",
        "      total_grade+=student[\"grade\"]\n",
        "\n",
        "  major_average.append({\n",
        "      \"major\":major,\n",
        "      \"total_student\":total_student,\n",
        "      \"average_grade\":total_grade/total_student\n",
        "  })\n",
        "print(major_average)\n",
        "#You can come up with nice code than above.\n"
      ],
      "metadata": {
        "id": "X1U01dK0t0F_"
      },
      "execution_count": null,
      "outputs": []
    },
    {
      "cell_type": "code",
      "source": [
        "# Let's imagine that you have added 100 students.\n",
        "#Once you restart your session all the data will go away\n",
        "#So you need a better methode to save your data"
      ],
      "metadata": {
        "id": "dmlqaGG2wbQf"
      },
      "execution_count": null,
      "outputs": []
    },
    {
      "cell_type": "code",
      "source": [
        "students = [\n",
        "    {\"name\": \"Ahmed Hassan\", \"major\": \"Computer Science\", \"math_class\": \"Calculus I\", \"grade\": 87},\n",
        "    {\"name\": \"Fatima Khalid\", \"major\": \"Mechanical Engineering\", \"math_class\": \"Linear Algebra\", \"grade\": 92},\n",
        "    {\"name\": \"Omar Nasser\", \"major\": \"Physics\", \"math_class\": \"Differential Equations\", \"grade\": 78},\n",
        "    {\"name\": \"Layla Zaki\", \"major\": \"Mathematics\", \"math_class\": \"Abstract Algebra\", \"grade\": 85},\n",
        "    {\"name\": \"Youssef Tarek\", \"major\": \"Electrical Engineering\", \"math_class\": \"Calculus II\", \"grade\": 90},\n",
        "    {\"name\": \"Amina Saeed\", \"major\": \"Biology\", \"math_class\": \"Statistics\", \"grade\": 88},\n",
        "    {\"name\": \"Khalid Omar\", \"major\": \"Economics\", \"math_class\": \"Business Calculus\", \"grade\": 80},\n",
        "    {\"name\": \"Hanan Mostafa\", \"major\": \"Chemistry\", \"math_class\": \"Applied Math\", \"grade\": 86},\n",
        "    {\"name\": \"Rami Adel\", \"major\": \"Finance\", \"math_class\": \"Financial Mathematics\", \"grade\": 91},\n",
        "    {\"name\": \"Nour Al-Din\", \"major\": \"Computer Science\", \"math_class\": \"Discrete Mathematics\", \"grade\": 83},\n",
        "    {\"name\": \"Zainab Mahmoud\", \"major\": \"Civil Engineering\", \"math_class\": \"Structural Math\", \"grade\": 89},\n",
        "    {\"name\": \"Tariq Yassin\", \"major\": \"Business\", \"math_class\": \"Quantitative Methods\", \"grade\": 84},\n",
        "    {\"name\": \"Salma Reda\", \"major\": \"Mathematics\", \"math_class\": \"Real Analysis\", \"grade\": 93},\n",
        "    {\"name\": \"Bilal Sami\", \"major\": \"Statistics\", \"math_class\": \"Probability Theory\", \"grade\": 81},\n",
        "    {\"name\": \"Hussein Farid\", \"major\": \"Aerospace Engineering\", \"math_class\": \"Calculus III\", \"grade\": 87},\n",
        "    {\"name\": \"Lina Mostafa\", \"major\": \"Psychology\", \"math_class\": \"Statistical Methods\", \"grade\": 79},\n",
        "    {\"name\": \"Ibrahim Wael\", \"major\": \"Physics\", \"math_class\": \"Mathematical Physics\", \"grade\": 88},\n",
        "    {\"name\": \"Dina Karim\", \"major\": \"Biomedical Engineering\", \"math_class\": \"Biostatistics\", \"grade\": 82},\n",
        "    {\"name\": \"Mohamed Ezz\", \"major\": \"Electrical Engineering\", \"math_class\": \"Complex Analysis\", \"grade\": 91},\n",
        "    {\"name\": \"Sara Hisham\", \"major\": \"Finance\", \"math_class\": \"Actuarial Science\", \"grade\": 94},\n",
        "    {\"name\": \"Mustafa Ayman\", \"major\": \"Mechanical Engineering\", \"math_class\": \"Numerical Methods\", \"grade\": 90},\n",
        "    {\"name\": \"Hala Nabil\", \"major\": \"Economics\", \"math_class\": \"Econometrics\", \"grade\": 85},\n",
        "    {\"name\": \"Ali Zahran\", \"major\": \"Mathematics\", \"math_class\": \"Topology\", \"grade\": 83},\n",
        "    {\"name\": \"Rasha Anwar\", \"major\": \"Physics\", \"math_class\": \"Quantum Mechanics Math\", \"grade\": 79},\n",
        "    {\"name\": \"Ismail Tamer\", \"major\": \"Statistics\", \"math_class\": \"Regression Analysis\", \"grade\": 92},\n",
        "    {\"name\": \"Noor Sherif\", \"major\": \"Computer Science\", \"math_class\": \"Algorithmic Math\", \"grade\": 86},\n",
        "    {\"name\": \"Samir Fawzi\", \"major\": \"Civil Engineering\", \"math_class\": \"Surveying Math\", \"grade\": 80},\n",
        "    {\"name\": \"Mariam Bassem\", \"major\": \"Mathematics\", \"math_class\": \"Number Theory\", \"grade\": 95},\n",
        "    {\"name\": \"Hadi Osama\", \"major\": \"Biomedical Engineering\", \"math_class\": \"Medical Statistics\", \"grade\": 88},\n",
        "    {\"name\": \"Reem Younis\", \"major\": \"Physics\", \"math_class\": \"General Relativity Math\", \"grade\": 84},\n",
        "    {\"name\": \"Amr Nadeem\", \"major\": \"Finance\", \"math_class\": \"Investment Math\", \"grade\": 90},\n",
        "    {\"name\": \"Nadine Salah\", \"major\": \"Business\", \"math_class\": \"Operations Research\", \"grade\": 62},\n",
        "    {\"name\": \"Othman Khalil\", \"major\": \"Economics\", \"math_class\": \"Game Theory\", \"grade\": 87},\n",
        "    {\"name\": \"Yara Bassam\", \"major\": \"Mathematics\", \"math_class\": \"Set Theory\", \"grade\": 91},\n",
        "    {\"name\": \"Tamer Rashed\", \"major\": \"Statistics\", \"math_class\": \"Stochastic Processes\", \"grade\": 89},\n",
        "    {\"name\": \"Karim Abdelrahman\", \"major\": \"Computer Science\", \"math_class\": \"Graph Theory\", \"grade\": 93},\n",
        "    {\"name\": \"Heba Fouad\", \"major\": \"Physics\", \"math_class\": \"Electromagnetic Math\", \"grade\": 78},\n",
        "    {\"name\": \"Omar Salah\", \"major\": \"Aerospace Engineering\", \"math_class\": \"Fluid Dynamics Math\", \"grade\": 85},\n",
        "    {\"name\": \"Laila Hatem\", \"major\": \"Electrical Engineering\", \"math_class\": \"Signal Processing Math\", \"grade\": 92},\n",
        "    {\"name\": \"Saif Mostafa\", \"major\": \"Mechanical Engineering\", \"math_class\": \"Thermodynamics Math\", \"grade\": 58},\n",
        "    {\"name\": \"Dalia Ehab\", \"major\": \"Finance\", \"math_class\": \"Risk Analysis\", \"grade\": 90},\n",
        "    {\"name\": \"Ehab Tamer\", \"major\": \"Economics\", \"math_class\": \"Macroeconomic Models\", \"grade\": 71},\n",
        "    {\"name\": \"Shadi Walid\", \"major\": \"Mathematics\", \"math_class\": \"Functional Analysis\", \"grade\": 86},\n",
        "    {\"name\": \"Wissam Khaled\", \"major\": \"Business\", \"math_class\": \"Business Analytics\", \"grade\": 65},\n",
        "    {\"name\": \"Jamal Hani\", \"major\": \"Mathematics\", \"math_class\": \"Combinatorics\", \"grade\": 87},\n",
        "    {\"name\": \"Bayan Rami\", \"major\": \"Statistics\", \"math_class\": \"Experimental Design\", \"grade\": 89},\n",
        "    {\"name\": \"Yassin Hossam\", \"major\": \"Computer Science\", \"math_class\": \"Cryptography\", \"grade\": 91},\n",
        "    {\"name\": \"Zaki Mohamed\", \"major\": \"Physics\", \"math_class\": \"Statistical Mechanics\", \"grade\": 94},\n",
        "    {\"name\": \"Wael Ismail\", \"major\": \"Mechanical Engineering\", \"math_class\": \"Dynamics\", \"grade\": ''}\n",
        "]"
      ],
      "metadata": {
        "id": "PaEjH11cH87N"
      },
      "execution_count": null,
      "outputs": []
    },
    {
      "cell_type": "code",
      "source": [
        "len(students)"
      ],
      "metadata": {
        "id": "_2NNDxD-ONql",
        "outputId": "456ea442-a1d3-4e38-e76b-82016396f254",
        "colab": {
          "base_uri": "https://localhost:8080/"
        }
      },
      "execution_count": 75,
      "outputs": [
        {
          "output_type": "execute_result",
          "data": {
            "text/plain": [
              "49"
            ]
          },
          "metadata": {},
          "execution_count": 75
        }
      ]
    },
    {
      "cell_type": "code",
      "source": [
        "\n",
        "for student in students:\n",
        "    if student[\"grade\"] > 90:\n",
        "        print(student['name'], student['grade'], sep=' --> Got an A:')\n",
        "\n",
        "    elif student[\"grade\"] > 80:\n",
        "        print(student['name'], student['grade'], sep=' --> Got a B:')\n",
        "    elif student[\"grade\"] > 70:\n",
        "        print(student['name'], student['grade'], sep=' --> Got a C:')\n",
        "    elif student[\"grade\"] > 60:\n",
        "        print(student['name'], student['grade'], sep=' --> Got a D:')\n",
        "    else:\n",
        "        print(student['name'], student['grade'], sep=' --> Got an F:')\n",
        "\n",
        "\n"
      ],
      "metadata": {
        "id": "SWLvGc3nKfJa",
        "outputId": "22d208da-a903-427f-cf9d-195d4b313480",
        "colab": {
          "base_uri": "https://localhost:8080/",
          "height": 1000
        }
      },
      "execution_count": 76,
      "outputs": [
        {
          "output_type": "stream",
          "name": "stdout",
          "text": [
            "Ahmed Hassan --> Got a B:87\n",
            "Fatima Khalid --> Got an A:92\n",
            "Omar Nasser --> Got a C:78\n",
            "Layla Zaki --> Got a B:85\n",
            "Youssef Tarek --> Got a B:90\n",
            "Amina Saeed --> Got a B:88\n",
            "Khalid Omar --> Got a C:80\n",
            "Hanan Mostafa --> Got a B:86\n",
            "Rami Adel --> Got an A:91\n",
            "Nour Al-Din --> Got a B:83\n",
            "Zainab Mahmoud --> Got a B:89\n",
            "Tariq Yassin --> Got a B:84\n",
            "Salma Reda --> Got an A:93\n",
            "Bilal Sami --> Got a B:81\n",
            "Hussein Farid --> Got a B:87\n",
            "Lina Mostafa --> Got a C:79\n",
            "Ibrahim Wael --> Got a B:88\n",
            "Dina Karim --> Got a B:82\n",
            "Mohamed Ezz --> Got an A:91\n",
            "Sara Hisham --> Got an A:94\n",
            "Mustafa Ayman --> Got a B:90\n",
            "Hala Nabil --> Got a B:85\n",
            "Ali Zahran --> Got a B:83\n",
            "Rasha Anwar --> Got a C:79\n",
            "Ismail Tamer --> Got an A:92\n",
            "Noor Sherif --> Got a B:86\n",
            "Samir Fawzi --> Got a C:80\n",
            "Mariam Bassem --> Got an A:95\n",
            "Hadi Osama --> Got a B:88\n",
            "Reem Younis --> Got a B:84\n",
            "Amr Nadeem --> Got a B:90\n",
            "Nadine Salah --> Got a D:62\n",
            "Othman Khalil --> Got a B:87\n",
            "Yara Bassam --> Got an A:91\n",
            "Tamer Rashed --> Got a B:89\n",
            "Karim Abdelrahman --> Got an A:93\n",
            "Heba Fouad --> Got a C:78\n",
            "Omar Salah --> Got a B:85\n",
            "Laila Hatem --> Got an A:92\n",
            "Saif Mostafa --> Got an F:58\n",
            "Dalia Ehab --> Got a B:90\n",
            "Ehab Tamer --> Got a C:71\n",
            "Shadi Walid --> Got a B:86\n",
            "Wissam Khaled --> Got a D:65\n",
            "Jamal Hani --> Got a B:87\n",
            "Bayan Rami --> Got a B:89\n",
            "Yassin Hossam --> Got an A:91\n",
            "Zaki Mohamed --> Got an A:94\n"
          ]
        },
        {
          "output_type": "error",
          "ename": "TypeError",
          "evalue": "'>' not supported between instances of 'str' and 'int'",
          "traceback": [
            "\u001b[0;31m---------------------------------------------------------------------------\u001b[0m",
            "\u001b[0;31mTypeError\u001b[0m                                 Traceback (most recent call last)",
            "\u001b[0;32m<ipython-input-76-097989c97ab7>\u001b[0m in \u001b[0;36m<cell line: 0>\u001b[0;34m()\u001b[0m\n\u001b[1;32m      1\u001b[0m \u001b[0;32mfor\u001b[0m \u001b[0mstudent\u001b[0m \u001b[0;32min\u001b[0m \u001b[0mstudents\u001b[0m\u001b[0;34m:\u001b[0m\u001b[0;34m\u001b[0m\u001b[0;34m\u001b[0m\u001b[0m\n\u001b[0;32m----> 2\u001b[0;31m     \u001b[0;32mif\u001b[0m \u001b[0mstudent\u001b[0m\u001b[0;34m[\u001b[0m\u001b[0;34m\"grade\"\u001b[0m\u001b[0;34m]\u001b[0m \u001b[0;34m>\u001b[0m \u001b[0;36m90\u001b[0m\u001b[0;34m:\u001b[0m\u001b[0;34m\u001b[0m\u001b[0;34m\u001b[0m\u001b[0m\n\u001b[0m\u001b[1;32m      3\u001b[0m         \u001b[0mprint\u001b[0m\u001b[0;34m(\u001b[0m\u001b[0mstudent\u001b[0m\u001b[0;34m[\u001b[0m\u001b[0;34m'name'\u001b[0m\u001b[0;34m]\u001b[0m\u001b[0;34m,\u001b[0m \u001b[0mstudent\u001b[0m\u001b[0;34m[\u001b[0m\u001b[0;34m'grade'\u001b[0m\u001b[0;34m]\u001b[0m\u001b[0;34m,\u001b[0m \u001b[0msep\u001b[0m\u001b[0;34m=\u001b[0m\u001b[0;34m' --> Got an A:'\u001b[0m\u001b[0;34m)\u001b[0m\u001b[0;34m\u001b[0m\u001b[0;34m\u001b[0m\u001b[0m\n\u001b[1;32m      4\u001b[0m \u001b[0;34m\u001b[0m\u001b[0m\n\u001b[1;32m      5\u001b[0m     \u001b[0;32melif\u001b[0m \u001b[0mstudent\u001b[0m\u001b[0;34m[\u001b[0m\u001b[0;34m\"grade\"\u001b[0m\u001b[0;34m]\u001b[0m \u001b[0;34m>\u001b[0m \u001b[0;36m80\u001b[0m\u001b[0;34m:\u001b[0m\u001b[0;34m\u001b[0m\u001b[0;34m\u001b[0m\u001b[0m\n",
            "\u001b[0;31mTypeError\u001b[0m: '>' not supported between instances of 'str' and 'int'"
          ]
        }
      ]
    },
    {
      "cell_type": "code",
      "source": [
        "students_2 = [\n",
        "    {\"name\": \"Ahmed Hassan\", \"major\": \"Computer Science\", \"math_class\": \"Calculus I\", \"grade\": 87},\n",
        "    {\"name\": \"Fatima Khalid\", \"major\": \"Mechanical Engineering\", \"math_class\": \"Linear Algebra\", \"grade\": 92},\n",
        "    {\"name\": \"Omar Nasser\", \"major\": \"Physics\", \"math_class\": \"Differential Equations\", \"grade\": 78},\n",
        "    {\"name\": \"Layla Zaki\", \"major\": \"Mathematics\", \"math_class\": \"Abstract Algebra\", \"grade\": 85},\n",
        "    {\"name\": \"Youssef Tarek\", \"major\": \"Electrical Engineering\", \"math_class\": \"Calculus II\", \"grade\": 90},\n",
        "    {\"name\": \"Amina Saeed\", \"major\": \"Biology\", \"math_class\": \"Statistics\", \"grade\": 88},\n",
        "    {\"name\": \"Khalid Omar\", \"major\": \"Economics\", \"math_class\": \"Business Calculus\", \"grade\": 80},\n",
        "    {\"name\": \"Hanan Mostafa\", \"major\": \"Chemistry\", \"math_class\": \"Applied Math\", \"grade\": 86},\n",
        "    {\"name\": \"Rami Adel\", \"major\": \"Finance\", \"math_class\": \"Financial Mathematics\", \"grade\": 91},\n",
        "    {\"name\": \"Dalia Ehab\", \"major\": \"Finance\", \"math_class\": \"Risk Analysis\", \"grade\": 90},\n",
        "    {\"name\": \"Ehab Tamer\", \"major\": \"Economics\", \"math_class\": \"Macroeconomic Models\", \"grade\": 71},\n",
        "    {\"name\": \"Shadi Walid\", \"major\": \"Mathematics\", \"math_class\": \"Functional Analysis\", \"grade\": 86},\n",
        "    {\"name\": \"Wissam Khaled\", \"major\": \"Business\", \"math_class\": \"Business Analytics\", \"grade\": 65},\n",
        "    {\"name\": \"Jamal Hani\", \"major\": \"Mathematics\", \"math_class\": \"Combinatorics\", \"grade\": 87},\n",
        "    {\"name\": \"Bayan Rami\", \"major\": \"Statistics\", \"math_class\": \"Experimental Design\", \"grade\": 89},\n",
        "    {\"name\": \"Yassin Hossam\", \"major\": \"Computer Science\", \"math_class\": \"Cryptography\", \"grade\": 91},\n",
        "    {\"name\": \"Zaki Mohamed\", \"major\": \"Physics\", \"math_class\": \"Statistical Mechanics\", \"grade\": 94},\n",
        "    {\"name\": \"Wael Ismail\", \"major\": \"Mechanical Engineering\", \"math_class\": \"Dynamics\", \"grade\": 88},\n",
        "    {\"name\": \"Nadine Salah\", \"major\": \"Business\", \"math_class\": \"Operations Research\", \"grade\": 62},\n",
        "    {\"name\": \"Othman Khalil\", \"major\": \"Economics\", \"math_class\": \"Game Theory\", \"grade\": 87},\n",
        "    {\"name\": \"Yara Bassam\", \"major\": \"Mathematics\", \"math_class\": \"Set Theory\", \"grade\": 91},\n",
        "    {\"name\": \"Tamer Rashed\", \"major\": \"Statistics\", \"math_class\": \"Stochastic Processes\", \"grade\": 89},\n",
        "    {\"name\": \"Karim Abdelrahman\", \"major\": \"Computer Science\", \"math_class\": \"Graph Theory\", \"grade\": 93},\n",
        "    {\"name\": \"Heba Fouad\", \"major\": \"Physics\", \"math_class\": \"Electromagnetic Math\", \"grade\": 78},\n",
        "    {\"name\": \"Omar Salah\", \"major\": \"Aerospace Engineering\", \"math_class\": \"Fluid Dynamics Math\", \"grade\": 85},\n",
        "    {\"name\": \"Laila Hatem\", \"major\": \"Electrical Engineering\", \"math_class\": \"Signal Processing Math\", \"grade\": 92},\n",
        "    {\"name\": \"Saif Mostafa\", \"major\": \"Mechanical Engineering\", \"math_class\": \"Thermodynamics Math\", \"grade\": ''},\n",
        "\n",
        "]"
      ],
      "metadata": {
        "id": "jKWV149TQMx0"
      },
      "execution_count": 77,
      "outputs": []
    },
    {
      "cell_type": "code",
      "source": [
        "len(students_2)"
      ],
      "metadata": {
        "id": "dIEMtJe2R16i"
      },
      "execution_count": null,
      "outputs": []
    },
    {
      "cell_type": "code",
      "source": [
        "def get_grade(grade):\n",
        "  if grade>= 90:\n",
        "    return 'A'\n",
        "  elif grade >= 80:\n",
        "    return 'B'\n",
        "  elif grade >= 70:\n",
        "    return 'C'\n",
        "  elif grade >= 60:\n",
        "    return 'D'\n",
        "  else:\n",
        "    return 'F'"
      ],
      "metadata": {
        "id": "uDDc6TjGQ8Fg"
      },
      "execution_count": null,
      "outputs": []
    },
    {
      "cell_type": "code",
      "source": [
        "for student in students_2:\n",
        "  if isinstance(student[\"grade\"], int):\n",
        "    print(student['name'], get_grade(student['grade']), sep=' --> Got an :')\n",
        "  else:\n",
        "    print('Grade was not provided for ', student['name'])"
      ],
      "metadata": {
        "id": "Mj2OztKEW8b-",
        "outputId": "b8452cb0-c788-47e6-c356-aa85e1fb9b28",
        "colab": {
          "base_uri": "https://localhost:8080/"
        }
      },
      "execution_count": 78,
      "outputs": [
        {
          "output_type": "stream",
          "name": "stdout",
          "text": [
            "Ahmed Hassan --> Got an :B\n",
            "Fatima Khalid --> Got an :A\n",
            "Omar Nasser --> Got an :C\n",
            "Layla Zaki --> Got an :B\n",
            "Youssef Tarek --> Got an :A\n",
            "Amina Saeed --> Got an :B\n",
            "Khalid Omar --> Got an :B\n",
            "Hanan Mostafa --> Got an :B\n",
            "Rami Adel --> Got an :A\n",
            "Dalia Ehab --> Got an :A\n",
            "Ehab Tamer --> Got an :C\n",
            "Shadi Walid --> Got an :B\n",
            "Wissam Khaled --> Got an :D\n",
            "Jamal Hani --> Got an :B\n",
            "Bayan Rami --> Got an :B\n",
            "Yassin Hossam --> Got an :A\n",
            "Zaki Mohamed --> Got an :A\n",
            "Wael Ismail --> Got an :B\n",
            "Nadine Salah --> Got an :D\n",
            "Othman Khalil --> Got an :B\n",
            "Yara Bassam --> Got an :A\n",
            "Tamer Rashed --> Got an :B\n",
            "Karim Abdelrahman --> Got an :A\n",
            "Heba Fouad --> Got an :C\n",
            "Omar Salah --> Got an :B\n",
            "Laila Hatem --> Got an :A\n",
            "Grade was not provided for  Saif Mostafa\n"
          ]
        }
      ]
    }
  ]
}