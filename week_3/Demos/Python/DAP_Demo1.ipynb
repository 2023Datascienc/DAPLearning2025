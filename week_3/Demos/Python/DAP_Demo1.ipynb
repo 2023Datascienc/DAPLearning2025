{
  "nbformat": 4,
  "nbformat_minor": 0,
  "metadata": {
    "colab": {
      "provenance": []
    },
    "kernelspec": {
      "name": "python3",
      "display_name": "Python 3"
    },
    "language_info": {
      "name": "python"
    }
  },
  "cells": [
    {
      "cell_type": "markdown",
      "source": [
        "# **Python Demo: Getting Started from Scratch. Part I**\n",
        "\n",
        "\n"
      ],
      "metadata": {
        "id": "Sp_c-hMVgZzo"
      }
    },
    {
      "cell_type": "markdown",
      "source": [
        "## 1. Introduction to Python\n",
        "\n",
        "* What is Python?\n",
        "\n",
        "    Python is a high-level, interpreted programming language known for its simplicity and readability.\n",
        "\n",
        "* Why use Python?\n",
        "\n",
        "    Python is easy to learn, versatile, and widely used in web development, data science, AI, and automation."
      ],
      "metadata": {
        "id": "kJemcGGvkE_F"
      }
    },
    {
      "cell_type": "markdown",
      "source": [
        "## 2. Variables & Data Types\n",
        "\n",
        "Variables store data in memory, and Python is dynamically typed."
      ],
      "metadata": {
        "id": "6n-wdqO6nIqM"
      }
    },
    {
      "cell_type": "code",
      "source": [
        "x = 13 # Integer\n",
        "print(\"type of variable is \", type(x))\n",
        "x=\"DAP Pro Progam\"  # Text or String\n",
        "print(\"type of variable is \", type(x))\n",
        "print(\"Python is Dynamically typed\")"
      ],
      "metadata": {
        "id": "waGg0hGbdeTq"
      },
      "execution_count": null,
      "outputs": []
    },
    {
      "cell_type": "code",
      "execution_count": null,
      "metadata": {
        "id": "Z1ykCUEgxrNA"
      },
      "outputs": [],
      "source": [
        "# Naming and using variables\n",
        "# Letters, numbers, and underscores. Space are not allowed\n",
        "#Avoid using Python Keywords. Those are Python reserved words such as \"print\"\n",
        "# Variable name should short and descrptive\n",
        "\n",
        "name = \"Alice\"   # String\n",
        "age = 25         # Integer\n",
        "height = 5.7     # Float\n",
        "is_student = True  # Boolean\n",
        "\n",
        "print(name, age, height, is_student)\n"
      ]
    },
    {
      "cell_type": "code",
      "source": [
        "grade_1=89\n",
        "grade_2=90\n",
        "avg=(grade_1+grade_2)/2\n",
        "print(avg) # what I want to present"
      ],
      "metadata": {
        "id": "Ic2UqeLbgF_O"
      },
      "execution_count": null,
      "outputs": []
    },
    {
      "cell_type": "code",
      "source": [
        "#Errors when using variables\n",
        "welcome =\"Welcome everyone!\"\n",
        "print(Welcome)\n",
        "# ----------------------------------------\n",
        "#Output\n",
        "# NameError                                 Traceback (most recent call last)\n",
        "# <ipython-input-4-6aa22a3327dd> in <cell line: 0>()\n",
        "#       1 #Errors when using variables\n",
        "#       2 msg=\"Welcome everyone!\"\n",
        "# ----> 3 print(Msg)\n",
        "\n",
        "# NameError: name 'Msg' is not defined"
      ],
      "metadata": {
        "id": "fa80HRfZfy64"
      },
      "execution_count": null,
      "outputs": []
    },
    {
      "cell_type": "code",
      "source": [
        "start_coding=\"Let me learn Python\"\n",
        "StartCoding = \"Let me learn Java\"\n"
      ],
      "metadata": {
        "id": "o_2MjcsZhPww"
      },
      "execution_count": null,
      "outputs": []
    },
    {
      "cell_type": "markdown",
      "source": [
        "## Common Data Types in Python:\n",
        "\n",
        "int (Integer) → age = 25\n",
        "\n",
        "float (Decimal) → pi = 3.14\n",
        "\n",
        "str (String) → message = \"Hello\"\n",
        "\n",
        "bool (Boolean) → is_active = True"
      ],
      "metadata": {
        "id": "2XBn9IlTorBq"
      }
    },
    {
      "cell_type": "markdown",
      "source": [
        "## 3. Working with Strings\n",
        "\n",
        "Strings are sequences of characters, and Python provides powerful ways to manipulate them."
      ],
      "metadata": {
        "id": "DkdU3QW0o3ap"
      }
    },
    {
      "cell_type": "code",
      "source": [
        "text = \"Python is fun!\"\n",
        "print(text.upper())  # Convert to uppercase\n",
        "print(text.lower())  # Convert to lowercase\n",
        "print(text.replace(\"fun\", \"awesome\"))  # Replace a word\n",
        "print(text[0:9])  # Slicing (First 6 characters)\n"
      ],
      "metadata": {
        "id": "vVnLtgfwoqP3"
      },
      "execution_count": null,
      "outputs": []
    },
    {
      "cell_type": "code",
      "source": [
        "first_name = \" Maria\"\n",
        "last_name = \"Brown \"\n",
        "full_name = f\"{first_name} {last_name}\"\n",
        "print(full_name)\n",
        "full_name = f\"{first_name.lstrip()} {last_name.rstrip()}\"\n",
        "print(full_name)"
      ],
      "metadata": {
        "id": "wt1T3nOLiIdg"
      },
      "execution_count": null,
      "outputs": []
    },
    {
      "cell_type": "code",
      "source": [
        "print(f\"Hello word!\")"
      ],
      "metadata": {
        "id": "cRdDZIqljA9-"
      },
      "execution_count": null,
      "outputs": []
    },
    {
      "cell_type": "code",
      "source": [
        "print(f\"Hello, {full_name.title()}\")"
      ],
      "metadata": {
        "id": "uJg9twITiw3v"
      },
      "execution_count": null,
      "outputs": []
    },
    {
      "cell_type": "markdown",
      "source": [
        "**For more details:** [Click here](https://www.w3schools.com/python/python_ref_string.asp)"
      ],
      "metadata": {
        "id": "zlPYCfQ_kKGH"
      }
    },
    {
      "cell_type": "code",
      "source": [
        "# Avoid Syntax Errors with Strings\n",
        "msg='The DAP is aiming to teach dynamic contents'\n",
        "print(msg)\n",
        "# msg='The DAP's strategy is to teach dynamic contents' # What goes wrong here?\n"
      ],
      "metadata": {
        "id": "xpl2iByok5sI"
      },
      "execution_count": null,
      "outputs": []
    },
    {
      "cell_type": "markdown",
      "source": [
        "##**Numbers**"
      ],
      "metadata": {
        "id": "0aYVpgJRmDiX"
      }
    },
    {
      "cell_type": "code",
      "source": [
        "# We can add (+), substract (-), divide (/), and multiply (*) integers in Python\n",
        "print(f\"(13+7) = {13+7},\\n(13-7) = {13-7},\\n(13/7) ={13/7},\\n(13*7) = {13*7})\")"
      ],
      "metadata": {
        "id": "q9FSvwemmCN8"
      },
      "execution_count": null,
      "outputs": []
    },
    {
      "cell_type": "code",
      "source": [
        "x=5//2\n",
        "print(x)\n",
        "print(type(x))"
      ],
      "metadata": {
        "id": "CggFPI7yjePb"
      },
      "execution_count": null,
      "outputs": []
    },
    {
      "cell_type": "code",
      "source": [
        "#Python calls any number with a decimal point a float.\n",
        "0.1+0.2  # 0.30000000000000004  why?"
      ],
      "metadata": {
        "id": "5A4vfB52m3IA"
      },
      "execution_count": null,
      "outputs": []
    },
    {
      "cell_type": "code",
      "source": [
        "# Integers Vs Float\n",
        "print(4/2) # Result in float\n",
        "print(type(4/2), \" ---> float\")\n",
        "print(1+1.0001) # result in float\n",
        "print(type(1+1.0001), \" ---> float\")\n",
        "print(4//2) # Result in integer\n",
        "print(type(4//2), \" ----> intger\")"
      ],
      "metadata": {
        "id": "xf3SaQDMm3TT"
      },
      "execution_count": null,
      "outputs": []
    },
    {
      "cell_type": "code",
      "source": [
        "print(1000, 1_000) # underscore will help when you are dealing with long numbers\n",
        "name, age = \"John\", 25\n",
        "print(name, age)  # Multiple assignment at once\n",
        "MAX_CAPACITY = 100 # Constant is like a variable whose value stays the same throughout the life of the program.\n",
        "print(MAX_CAPACITY) # Can you change it? Yes, so we call it constant variable then?"
      ],
      "metadata": {
        "id": "MC2dcpeSm3gx"
      },
      "execution_count": null,
      "outputs": []
    },
    {
      "cell_type": "markdown",
      "source": [
        "**The Zen of Python**"
      ],
      "metadata": {
        "id": "O_GahRcVqkOY"
      }
    },
    {
      "cell_type": "code",
      "source": [
        "import this # the word import used when we want to call a package\n"
      ],
      "metadata": {
        "id": "tWJOy-8nm3u3"
      },
      "execution_count": null,
      "outputs": []
    },
    {
      "cell_type": "markdown",
      "source": [
        "#**Into Data Structure & If Statement**"
      ],
      "metadata": {
        "id": "4vGR4WOHtHR3"
      }
    },
    {
      "cell_type": "markdown",
      "source": [
        "## What is a list in Python?\n",
        "\n",
        "A list is an ordered, mutable collection:\n",
        "\n",
        "## What is a tuple?\n",
        "\n",
        "A tuple is an immutable (unchangeable) collection\n",
        "\n",
        "## What is a set?\n",
        "\n",
        "A set is an unordered collection of unique elements\n",
        "\n",
        "## What is a dictionary?\n",
        "\n",
        "A dictionary stores key-value pairs\n",
        "\n",
        "## What is an if statement used for?\n",
        "\n",
        "It controls code execution based on conditions:"
      ],
      "metadata": {
        "id": "sjsbETNys0Hy"
      }
    },
    {
      "cell_type": "markdown",
      "source": [
        "### 1. Lists (Ordered Collection)\n",
        "\n",
        "Concept: Lists store multiple items in a single variable and allow modification."
      ],
      "metadata": {
        "id": "zarlrFEdpR15"
      }
    },
    {
      "cell_type": "code",
      "source": [
        "fruits = [\"apple\", \"banana\", \"cherry\"]\n",
        "fruits.append(\"orange\")  # Add an item\n",
        "fruits.remove(\"banana\")  # Remove an item\n",
        "fruits[0] = \"grape\"  # Modify an item\n",
        "print(fruits)\n"
      ],
      "metadata": {
        "id": "7Fb5JMzngku0"
      },
      "execution_count": null,
      "outputs": []
    },
    {
      "cell_type": "code",
      "source": [
        "print(fruits[0])\n",
        "print(fruits[0].title())\n",
        "print(fruits[-1])"
      ],
      "metadata": {
        "id": "X-UaQVu5r-Vp"
      },
      "execution_count": null,
      "outputs": []
    },
    {
      "cell_type": "code",
      "source": [
        "# Check with indexes: List index starts at 0 not 1\n",
        "#Chaning, adding, removing elements\n",
        "my_best_movies = [\"Movie1\", \"Movie2\", \"Movie3\"]\n",
        "print(f\"Original list: \", my_best_movies)\n",
        "my_best_movies[0]=\"movie4\".title() # changing or updating\n",
        "print(f\"Updated first elem in the list: \", my_best_movies)\n",
        "my_best_movies.append(\"Movie5\") # adding --> Appending element to the end of the list\n",
        "print(f\"Append elem at the end: \", my_best_movies)\n",
        "my_best_movies.remove(\"Movie2\") # removing using the name of the value\n",
        "print(f\"Remove elem (Movie2) \", my_best_movies)\n",
        "del my_best_movies[0] # removing. If you know exact index, you can remove elem using del\n",
        "print(f\"Remove first elem: \", my_best_movies)\n",
        "removed_elem = my_best_movies.pop(0) # removing using pop. removing last elem in the list by default\n",
        "print(f\"Remove elem at given index, : \", my_best_movies)\n",
        "print(f\"Removed elem: \", removed_elem)\n",
        "my_best_movies.insert(0, \"Movie6\") # inserting element at specifc index\n",
        "print(f\"Insert elem at the position 0: \", my_best_movies)\n"
      ],
      "metadata": {
        "id": "flP25LyK6qvo"
      },
      "execution_count": null,
      "outputs": []
    },
    {
      "cell_type": "markdown",
      "source": [
        "Lists support indexing, slicing, iteration, and various built-in functions."
      ],
      "metadata": {
        "id": "zsWPhxhzpg0P"
      }
    },
    {
      "cell_type": "markdown",
      "source": [
        "###**Organizing a List**"
      ],
      "metadata": {
        "id": "HEXnP-bG_PbB"
      }
    },
    {
      "cell_type": "code",
      "source": [
        "# Make a list of fruits\n",
        "fruits=[\"Orange\", \"Banana\", \"Apple\", \"Peach\"]\n",
        "#Sorting a list temporarly using sorted()\n",
        "print(sorted(fruits))\n",
        "print(\"Does original list change: \", fruits)\n",
        "# Order the list\n",
        "fruits.sort()\n",
        "print(fruits)\n",
        "# Reverse the order of the list\n",
        "fruits.sort(reverse=True)\n",
        "print(fruits)\n",
        "#Printing a list in Reverse Order\n",
        "fruits.reverse()\n",
        "print(fruits)"
      ],
      "metadata": {
        "id": "GjMjdAa9_U89"
      },
      "execution_count": null,
      "outputs": []
    },
    {
      "cell_type": "code",
      "source": [
        "# Finding the length of a list\n",
        "print(len(fruits))\n",
        "# Creating a numerical list using range\n",
        "numbers=list(range(1,20))\n",
        "print(numbers)\n",
        "odd_numbers=list(range(1,20,2))\n",
        "print(odd_numbers)\n",
        "even_numbers=list(range(0,20,2))\n",
        "print(even_numbers)\n",
        "min(numbers)\n",
        "max(numbers)\n",
        "sum(numbers)\n",
        "# List comprehensions\n",
        "squares = [value**2 for value in range(1, 11)]\n",
        "print(squares)"
      ],
      "metadata": {
        "id": "D66si0mRI-JO"
      },
      "execution_count": null,
      "outputs": []
    },
    {
      "cell_type": "code",
      "source": [
        "#Slicing List\n",
        "print(numbers[0:9]) # Try using numbers[:3], numbvers[10:], numbers[-3:]\n",
        "numbers[-3:]"
      ],
      "metadata": {
        "id": "LqQ9X0ThKStC"
      },
      "execution_count": null,
      "outputs": []
    },
    {
      "cell_type": "code",
      "source": [
        "# Asking user to enter number\n",
        "enter_number = input(\"Enter a number: \")\n",
        "print(f\"You entered: {enter_number}\")"
      ],
      "metadata": {
        "id": "KQu2PmMYMIlV"
      },
      "execution_count": null,
      "outputs": []
    },
    {
      "cell_type": "code",
      "source": [
        "copy1= numbers"
      ],
      "metadata": {
        "id": "BnRtoHvBEowz"
      },
      "execution_count": null,
      "outputs": []
    },
    {
      "cell_type": "code",
      "source": [
        "numberAsCopy=numbers[:] # First way to make copy\n",
        "numbersAsCopy_1=numbers.copy() # Alternative way to make copy\n",
        "numberAsCopy.append(21)\n",
        "numbersAsCopy_1.append(22)\n",
        "print(numbers)\n",
        "print(numberAsCopy)\n",
        "print(numbersAsCopy_1)\n",
        "print(numbers==numberAsCopy)\n",
        "print(numbers==numbersAsCopy_1)\n",
        "print(\"-\"*10)\n",
        "numbersAsRef=numbers # Second way to make copy\n",
        "numbersAsRef.append(23)\n",
        "print(numbers)\n",
        "print(numbersAsRef)\n",
        "print(numbers==numbersAsRef)\n"
      ],
      "metadata": {
        "id": "1xjUBbcKMpII"
      },
      "execution_count": null,
      "outputs": []
    },
    {
      "cell_type": "markdown",
      "source": [
        "# where we stopped last week in 2025\n",
        "\n",
        "---\n",
        "\n"
      ],
      "metadata": {
        "id": "8kOB29-eCdG6"
      }
    },
    {
      "cell_type": "code",
      "source": [
        "print(f\"this is my list {fruits}\")"
      ],
      "metadata": {
        "id": "w90Q-oftFPI2"
      },
      "execution_count": null,
      "outputs": []
    },
    {
      "cell_type": "code",
      "source": [
        "# Checking if a value in the list\n",
        "print(\"Orange1\" in fruits)\n",
        "print(\"Orange1\" not in fruits)"
      ],
      "metadata": {
        "id": "tB0qAk9vSQpY"
      },
      "execution_count": null,
      "outputs": []
    },
    {
      "cell_type": "code",
      "source": [
        "if \"Orange\" in fruits:\n",
        "  print(\"Orange is in the list\")"
      ],
      "metadata": {
        "id": "Fb1XZRqEGBPT"
      },
      "execution_count": null,
      "outputs": []
    },
    {
      "cell_type": "code",
      "source": [
        "# Boolean Expression\n",
        "print(1==2)\n",
        "print(1!=2)\n",
        "print(1>2)\n",
        "print(1<2)\n",
        "print(1>=2)\n",
        "print(2<=2)"
      ],
      "metadata": {
        "id": "EExI7ffeSbXX"
      },
      "execution_count": null,
      "outputs": []
    },
    {
      "cell_type": "code",
      "source": [
        "from random import randint  # Again!!! using Import?\n",
        "random_number = randint(1, 100)\n",
        "print(random_number)"
      ],
      "metadata": {
        "id": "Qkudki1zGZ-l"
      },
      "execution_count": null,
      "outputs": []
    },
    {
      "cell_type": "code",
      "source": [
        "\n",
        "# Wawnted a random numbers from 80 to 100 to form a list of 10 elements\n",
        "random_numbers = [randint(80, 100) for _ in range(10)] # For groups, why we have _?\n",
        "print(random_numbers)"
      ],
      "metadata": {
        "id": "YqWX22qwS_0x"
      },
      "execution_count": null,
      "outputs": []
    },
    {
      "cell_type": "code",
      "source": [
        "# Ex1 - Breakout rooms\n",
        "# Create a randomlist with 20 elements. the values should be between 75 and 100.\n",
        "# Come up with min, average, and max\n",
        "# Copy the original list and drop the first and last number\n",
        "# calculate the min, avg, and max for the copy list\n",
        "# Calculate the size of both list\n"
      ],
      "metadata": {
        "id": "XeDkwMtXLPUN"
      },
      "execution_count": null,
      "outputs": []
    },
    {
      "cell_type": "code",
      "source": [
        "if random_numbers:\n",
        "    print(\"List is not empty\")\n",
        "else:\n",
        "    print(\"List is empty\")"
      ],
      "metadata": {
        "id": "jnlvIHSEHZr8"
      },
      "execution_count": null,
      "outputs": []
    },
    {
      "cell_type": "code",
      "source": [
        "len(random_numbers)"
      ],
      "metadata": {
        "id": "lHwmZCj0IaBY"
      },
      "execution_count": null,
      "outputs": []
    },
    {
      "cell_type": "code",
      "source": [
        "# How to check a list in Not Empty?\n",
        "\n",
        "\n",
        "#Alternative way\n",
        "if len(random_numbers) > 0:\n",
        "    print(\"List is not empty\")\n",
        "else:\n",
        "    print(\"List is empty\")"
      ],
      "metadata": {
        "id": "Mdk6BfvUU2Xm"
      },
      "execution_count": null,
      "outputs": []
    },
    {
      "cell_type": "markdown",
      "source": [
        "## 2. Tuples (Immutable Collection)\n",
        "\n",
        "Tuples are like lists but cannot be modified after creation."
      ],
      "metadata": {
        "id": "x1VoSnHMpoil"
      }
    },
    {
      "cell_type": "code",
      "source": [
        "# Using a tuple as a dictionary key\n",
        "coordinates = {\n",
        "    (35.6895, 139.6917): \"Tokyo\",\n",
        "    (40.7128, -74.0060): \"New York\",\n",
        "    (48.8566, 2.3522): \"Paris\"\n",
        "}\n",
        "\n",
        "# Looking up a location using tuple keys\n",
        "print(coordinates[(40.7128, -74.0060)])  # Output: New York"
      ],
      "metadata": {
        "id": "H6-Xv9mfpubf"
      },
      "execution_count": null,
      "outputs": []
    },
    {
      "cell_type": "code",
      "source": [],
      "metadata": {
        "id": "UNk9cT2JIxG2"
      },
      "execution_count": null,
      "outputs": []
    },
    {
      "cell_type": "code",
      "source": [
        "coordinates = (10.3 , 20.5)\n",
        "\n",
        "print(coordinates[1])"
      ],
      "metadata": {
        "id": "Z4eBDaMAcbBU"
      },
      "execution_count": null,
      "outputs": []
    },
    {
      "cell_type": "code",
      "source": [
        "coordinates[0] = 10.4"
      ],
      "metadata": {
        "id": "_pJmGhYAcxOW"
      },
      "execution_count": null,
      "outputs": []
    },
    {
      "cell_type": "markdown",
      "source": [
        "*Why the error?*"
      ],
      "metadata": {
        "id": "REWJD0z2p9Le"
      }
    },
    {
      "cell_type": "code",
      "source": [
        "coordinates[1]=10\n",
        "coordinates"
      ],
      "metadata": {
        "id": "tsyjHWznpueh"
      },
      "execution_count": null,
      "outputs": []
    },
    {
      "cell_type": "code",
      "source": [
        "#Defin a tuple:\n",
        "my_tuple = (1,1)\n",
        "print(my_tuple)\n",
        "#Transforming from list to tuple\n",
        "numbers=[1,1,2,3,4]\n",
        "my_tuple=tuple(numbers)\n",
        "print(my_tuple)"
      ],
      "metadata": {
        "id": "zDm-n918Ouff"
      },
      "execution_count": null,
      "outputs": []
    },
    {
      "cell_type": "markdown",
      "source": [
        "## 3. Sets (Unique Collection)\n",
        "\n",
        "Sets store unique elements and do not allow duplicates. Does list and Tuple allow duplicates?"
      ],
      "metadata": {
        "id": "WaFqVuiqqEhR"
      }
    },
    {
      "cell_type": "code",
      "source": [
        "unique_numbers = { 1, 2, 3, 4, 4, 2}\n",
        "unique_numbers.add(5)\n",
        "print(unique_numbers)  # Output: {1, 2, 3, 4, 5}\n"
      ],
      "metadata": {
        "id": "kkWMO071puhw"
      },
      "execution_count": null,
      "outputs": []
    },
    {
      "cell_type": "code",
      "source": [],
      "metadata": {
        "id": "76Wn0v84KqVS"
      },
      "execution_count": null,
      "outputs": []
    },
    {
      "cell_type": "markdown",
      "source": [
        "## 4. Dictionaries (Key-Value Pairs)"
      ],
      "metadata": {
        "id": "DAVaTHRptbS8"
      }
    },
    {
      "cell_type": "markdown",
      "source": [
        "A dictionary holds data in key: value pairs for fast lookup."
      ],
      "metadata": {
        "id": "6rJam2-vtnvP"
      }
    },
    {
      "cell_type": "code",
      "source": [
        "student = {\n",
        "    \"name\": \"John\",\n",
        "    \"age\": 20,\n",
        "    \"grade\": 99,\n",
        "}"
      ],
      "metadata": {
        "id": "tv-vPvU9LN4d"
      },
      "execution_count": null,
      "outputs": []
    },
    {
      "cell_type": "code",
      "source": [
        "student['age']"
      ],
      "metadata": {
        "id": "x25j6e-sMDQS"
      },
      "execution_count": null,
      "outputs": []
    },
    {
      "cell_type": "code",
      "source": [
        "print(student[\"grade\"])"
      ],
      "metadata": {
        "id": "C-vpKDd1LY7U"
      },
      "execution_count": null,
      "outputs": []
    },
    {
      "cell_type": "code",
      "source": [
        "\n",
        "# Output: John\n",
        "student[\"age\"] = 21  # Update value\n",
        "print(student[\"age\"])\n",
        "print(student)"
      ],
      "metadata": {
        "id": "4ZIiyz6Mpukv"
      },
      "execution_count": null,
      "outputs": []
    },
    {
      "cell_type": "code",
      "source": [
        "print(student.get(\"name\"))\n",
        "print(student.get(\"age\"))\n",
        "print(student.get(\"grade\"))"
      ],
      "metadata": {
        "id": "xvqHrWMqM3EG"
      },
      "execution_count": null,
      "outputs": []
    },
    {
      "cell_type": "code",
      "source": [
        "# Aceessing values in a dictionnary\n",
        "\n",
        "# How about if we have more data for students\n",
        "students = [\n",
        "    {\"name\": \"Alice\", \"age\": 20, \"grade\": \"A\"},\n",
        "    {\"name\": \"Bob\", \"age\": 22, \"grade\": \"B\"},\n",
        "    {\"name\": \"Charlie\", \"age\": 21, \"grade\": \"C\"},\n",
        "    {\"name\": \"Bob\" , \"age\": 24, \"grade\": \"A\"}\n",
        "]\n",
        "print(f\"Students Info: {students}\")\n"
      ],
      "metadata": {
        "id": "hHSnRkeVaWUv"
      },
      "execution_count": null,
      "outputs": []
    },
    {
      "cell_type": "code",
      "source": [
        "students[[0:'grade']] ="
      ],
      "metadata": {
        "id": "7a_tSC_HNnvP"
      },
      "execution_count": null,
      "outputs": []
    },
    {
      "cell_type": "code",
      "source": [
        "students"
      ],
      "metadata": {
        "id": "FwwN8t_JOt0l"
      },
      "execution_count": null,
      "outputs": []
    },
    {
      "cell_type": "code",
      "source": [
        "# Can a dictionnary have the same key? You can have it but the dictionnary will pick the last key\n",
        "my_dict = {\"name\": \"Alice\", \"age\": 25, \"name\": \"Bob\", \"name\":\"Ali\"}\n",
        "print(my_dict[\"name\"])\n",
        "\n",
        "# Can a dictionnary have the same value for different keys? Yes\n",
        "my_dict = {\"name\": \"Alice\", \"Approximate Age\": 25, \"Current age\": 25}\n",
        "print(my_dict)\n",
        "\n",
        "# Can we add data to the dictionnary? Yes\n",
        "my_dict[\"Favorite Food\"] = \"Pizza\"\n",
        "print(my_dict)"
      ],
      "metadata": {
        "id": "DJoLrGDjbI5g"
      },
      "execution_count": null,
      "outputs": []
    },
    {
      "cell_type": "code",
      "source": [
        "# Dictionnary starting from scratch\n",
        "my_dict = {}\n",
        "my_dict[\"name\"] = \"Alice\"\n",
        "my_dict[\"age\"] = 25\n",
        "print(my_dict)\n",
        "# Extending the values\n",
        "my_dict[\"age\"] += 5\n",
        "print(my_dict)"
      ],
      "metadata": {
        "id": "giNt9X-sd9-f"
      },
      "execution_count": null,
      "outputs": []
    },
    {
      "cell_type": "code",
      "source": [
        "# Removing key-value Pairs\n",
        "del my_dict[\"age\"]\n",
        "print(my_dict)"
      ],
      "metadata": {
        "id": "EtuStBxreuoM"
      },
      "execution_count": null,
      "outputs": []
    },
    {
      "cell_type": "code",
      "source": [
        "# Dictionnary with the same Objects\n",
        "student_info = {\n",
        "    \"Alice\": {\"age\": 20, \"grade\": \"A\"},\n",
        "    \"Bob\": {\"age\": 22, \"grade\": \"B\"},\n",
        "    \"Charlie\": {\"age\": 21, \"grade\": \"C\"}\n",
        "}\n",
        "# Ask a user to enter a name and give the user choice what they're looking for: Ex. Alice, grade\n",
        "name = input (\"Enter a name: \")\n",
        "if name in student_info:\n",
        "  print(f\"Student grade: {student_info[name]['grade']}\")\n",
        "else:\n",
        "  print(\"Sorry! Name you entered does not exist! \")"
      ],
      "metadata": {
        "id": "rzdcbUb9fAzA"
      },
      "execution_count": null,
      "outputs": []
    },
    {
      "cell_type": "code",
      "source": [
        "# Flipping between keys and values\n",
        "favorite_languages = {\n",
        "    \"Alice\": \"Python\",\n",
        "    \"Bob\": \"Java\",\n",
        "    \"Charlie\": \"Python\",\n",
        "    \"David\": \"C++\",\n",
        "    \"Eve\": \"Python\",\n",
        "    \"Frank\": \"Java\",\n",
        "    \"Grace\": \"C++\"\n",
        "}\n",
        "# Sometimes, you should build up your dictionnary in a way that will help you\n",
        "# Come back to this example after you understand the For Loop / While\n",
        "flipped_dict = {}\n",
        "# Capturing the languages\n",
        "languages=set(lang for lang in favorite_languages.values())\n",
        "print(languages)"
      ],
      "metadata": {
        "id": "_mtmdp2pemqs"
      },
      "execution_count": null,
      "outputs": []
    },
    {
      "cell_type": "code",
      "source": [
        "# Capturing the names\n",
        "names=set(name for name in favorite_languages.keys())\n",
        "print(names)"
      ],
      "metadata": {
        "id": "BlTaijcoe3kM"
      },
      "execution_count": null,
      "outputs": []
    },
    {
      "cell_type": "code",
      "source": [
        "# Using get() to access values\n",
        "student = {\"name\": \"Alice\", \"age\": 20}\n",
        "print(student.get(\"name\"))  # Output: Alice\n",
        "print(student.get(\"grade\"))  # Output: None\n",
        "# Let's not to use get and see what happen\n",
        "print(student[\"grade\"])  # Output: KeyError: 'grade'"
      ],
      "metadata": {
        "id": "1T6pJ5qmh-Qe"
      },
      "execution_count": null,
      "outputs": []
    },
    {
      "cell_type": "code",
      "source": [
        "print(student.get(\"grade\", \"Value does not exist\"))  # Output: None   # Get can be more useful\n"
      ],
      "metadata": {
        "id": "sdFyRPB9iPmD"
      },
      "execution_count": null,
      "outputs": []
    },
    {
      "cell_type": "markdown",
      "source": [
        "## Conditional Statements (if-elif-else)"
      ],
      "metadata": {
        "id": "lS8BMDUQtwrG"
      }
    },
    {
      "cell_type": "markdown",
      "source": [
        "Execute different blocks of code based on conditions"
      ],
      "metadata": {
        "id": "OO3o3bpDuA-A"
      }
    },
    {
      "cell_type": "code",
      "source": [
        "age = int(input(\"What's your are: \"))\n",
        "if age >= 18:\n",
        "    print(\"You are an adult.\")\n",
        "else:\n",
        "    print(\"You are a minor.\")\n"
      ],
      "metadata": {
        "id": "a855VRYNpunt"
      },
      "execution_count": null,
      "outputs": []
    },
    {
      "cell_type": "code",
      "source": [
        "# More than one if\n",
        "age = 14\n",
        "if age >= 18:\n",
        "    print(\"You are an adult.\")\n",
        "elif age >= 13:\n",
        "    print(\"You are a teenager.\")\n",
        "else:\n",
        "    print(\"You are a minor.\")"
      ],
      "metadata": {
        "id": "7egFduoGSEg4"
      },
      "execution_count": null,
      "outputs": []
    },
    {
      "cell_type": "code",
      "source": [
        "msg = \"Check for Equality 1==2\"\n",
        "result = 1==2\n",
        "print(f\"{msg}: {result}\")\n",
        "msg = \"Check for Inequality 1!=2\"\n",
        "result = 1!=2\n",
        "print(f\"{msg}: {result}\")\n",
        "msg = \"Greater Than 1>2\"\n",
        "result = 1>2\n",
        "print(f\"{msg}: {result}\")\n",
        "msg = \"Less Than 1<2\"\n",
        "result = 1<2\n",
        "print(f\"{msg}: {result}\")\n",
        "msg = \"Greater Than or Equal 1>=2\"\n",
        "result = 1>=2\n",
        "print(f\"{msg}: {result}\")\n",
        "msg = \"Less Than or Equal 1<=2\"\n",
        "result = 1<=2\n",
        "print(f\"{msg}: {result}\")\n",
        "msg = \"Multiple Conditions 1<2 and 2<3\"\n",
        "result = 1<2 and 2<3\n",
        "print(f\"{msg}: {result}\")\n",
        "msg = \"Multiple Conditions 1<2 or 2<3\"\n",
        "result = 1<2 or 2<3\n",
        "print(f\"{msg}: {result}\")"
      ],
      "metadata": {
        "id": "igkhluyZPnDh"
      },
      "execution_count": null,
      "outputs": []
    },
    {
      "cell_type": "code",
      "source": [
        "# using or to check multiple conditions\n",
        "requirement = [\"soft skills\", 'tech skills', \"Transferable skills\"]\n",
        "if 'soft skills' in requirement or 'tech skills' in requirement:  # Using OR\n",
        "    print(\"Great fit.\")\n",
        "\n",
        "if 'soft skills' in requirement and 'Critical skills' in requirement:  # Using AND\n",
        "    print(\"Great fit.\")\n",
        "else:\n",
        "  print(\"Don't have the right skills\")"
      ],
      "metadata": {
        "id": "iCc_pJ7NRLun"
      },
      "execution_count": null,
      "outputs": []
    },
    {
      "cell_type": "markdown",
      "source": [
        "## Loops (For & While Loops)"
      ],
      "metadata": {
        "id": "LpWegy0ouIh5"
      }
    },
    {
      "cell_type": "code",
      "source": [
        "# For Loop Ex\n",
        "numbers = [1, 2, 3, 4, 1, 5, 3, 6]\n",
        "for num in numbers:\n",
        "    print(num)\n"
      ],
      "metadata": {
        "id": "3IISCkdlpuqn"
      },
      "execution_count": null,
      "outputs": []
    },
    {
      "cell_type": "code",
      "source": [
        "#using for loop to wlak through 2 lists\n",
        "names = [\"Alice\", \"Bob\", \"Charlie\"]\n",
        "ages = [25, 30, 35]\n",
        "for i in range(len(names)):\n",
        "    print(f\"{names[i]} is {ages[i]} years old.\")"
      ],
      "metadata": {
        "id": "Hp2JqsoUVoHC"
      },
      "execution_count": null,
      "outputs": []
    },
    {
      "cell_type": "code",
      "source": [
        "for i in range(0, len(numbers)):\n",
        "  print(numbers[i])"
      ],
      "metadata": {
        "id": "Wi5QaUGRputg"
      },
      "execution_count": null,
      "outputs": []
    },
    {
      "cell_type": "code",
      "source": [
        "# while loop Ex\n",
        "count =0\n",
        "while count <5:\n",
        "  print(\"Count: \", count)\n",
        "  count +=1\n"
      ],
      "metadata": {
        "id": "Ptjg3xFopuw8"
      },
      "execution_count": null,
      "outputs": []
    },
    {
      "cell_type": "markdown",
      "source": [
        "# Exercise Plan: Cleaning and Analyzing Sales Data\n",
        "Objective:\n",
        "Practicing working with lists, tuples, sets, and dictionaries while using loops (for, while) and if-statements to clean and analyze messy sales data.\n",
        "\n",
        "# Scenario:\n",
        "A company collects sales data, but the data is messy. Some values are missing, there are duplicate entries, and some sales amounts are incorrect. Your task is to clean and analyze the data.\n",
        "\n"
      ],
      "metadata": {
        "id": "8a8ZSB9Njoru"
      }
    },
    {
      "cell_type": "code",
      "source": [
        "# This is a Self-Assignment (Not a group - Assignment) Due Date: Friday, February 14.\n",
        "# --------------------------------------------------------------------------Step 1: Get familiar with data\n",
        "sales_list = [\n",
        "    (\"John\", \"NY\", 150),\n",
        "    (\"Alice\", \"CA\", 200),\n",
        "    (\"Bob\", \"TX\", 300),\n",
        "    (\"John\", \"NY\", None),  # Missing sales value\n",
        "    (\"Alice\", \"CA\", 200),  # Duplicate entry\n",
        "    (\"Emma\", \"FL\", -50),   # Incorrect value\n",
        "    (\"Sam\", \"NY\", 100),\n",
        "    (\"David\", \"TX\", None), # missing value\n",
        "    (\"Emma\", \"FL\", 250),\n",
        "    (\"Bob\", \"TX\", 300) ,\n",
        "    (\"Bob\", \"TX\", 300),\n",
        "    (\"Youssef\", \"NC\", 50),\n",
        "    (\"Youness\", \"NY\", 5000)\n",
        "\n",
        "    # Duplicate entry\n",
        "]\n",
        "# --------------------------------------------------------------------------Step 2: Clean the Data\n",
        "# Remove duplicate records\n",
        "# Remove records where sales are missing (None values)\n",
        "# Fix incorrect values (e.g., sales cannot be negative)\n",
        "# ------------------Hints:\n",
        "# Use a set to store unique records.\n",
        "# Use a loop to check for invalid data.\n",
        "# Use an if-statement to remove or fix incorrect values.\n",
        "\n",
        "# --------------------------------------------------------------------------Step 3: Store Clean Data in a Dictionary\n",
        "# Use a dictionary to store total sales per state.\n",
        "\n",
        "# --------------------------------------------------------------------------Step 4: Find the Best Salesperson\n",
        "# Identify the person with the highest sales.\n",
        "# ---------------------------------------------------------------------------Ddeadline: Friday, February 14."
      ],
      "metadata": {
        "id": "wCbtPRnNj7ft"
      },
      "execution_count": 19,
      "outputs": []
    },
    {
      "cell_type": "code",
      "source": [
        "sales_list_copy = sales_list.copy()"
      ],
      "metadata": {
        "id": "XZBdo9Kjx8sL"
      },
      "execution_count": 20,
      "outputs": []
    },
    {
      "cell_type": "code",
      "source": [
        "sales_list_copy"
      ],
      "metadata": {
        "id": "ONaCFZXs6BZy",
        "outputId": "78860095-f71c-402a-d77c-189b0a529089",
        "colab": {
          "base_uri": "https://localhost:8080/"
        }
      },
      "execution_count": 21,
      "outputs": [
        {
          "output_type": "execute_result",
          "data": {
            "text/plain": [
              "[('John', 'NY', 150),\n",
              " ('Alice', 'CA', 200),\n",
              " ('Bob', 'TX', 300),\n",
              " ('John', 'NY', None),\n",
              " ('Alice', 'CA', 200),\n",
              " ('Emma', 'FL', -50),\n",
              " ('Sam', 'NY', 100),\n",
              " ('David', 'TX', None),\n",
              " ('Emma', 'FL', 250),\n",
              " ('Bob', 'TX', 300),\n",
              " ('Bob', 'TX', 300),\n",
              " ('Youssef', 'NC', 50),\n",
              " ('Youness', 'NY', 5000)]"
            ]
          },
          "metadata": {},
          "execution_count": 21
        }
      ]
    },
    {
      "cell_type": "code",
      "source": [
        "('John', 'NY', 150)\n",
        ""
      ],
      "metadata": {
        "id": "O9dYtgXdaO8e"
      },
      "execution_count": null,
      "outputs": []
    },
    {
      "cell_type": "code",
      "source": [
        "cleaned_sales_list = []\n",
        "\n",
        "for sale in sales_list_copy:\n",
        "    # Check if the sales value is not None and not negative\n",
        "    if sale[2] is not None and sale[2]>0:\n",
        "        # If valid, add the sale to the cleaned list\n",
        "        cleaned_sales_list.append(sale)\n",
        "\n",
        "sales_list_copy = cleaned_sales_list"
      ],
      "metadata": {
        "id": "pfsQxUdF6wLY"
      },
      "execution_count": 22,
      "outputs": []
    },
    {
      "cell_type": "code",
      "source": [
        "sales_list_copy"
      ],
      "metadata": {
        "id": "uzc4JKpk63G3",
        "outputId": "953ed359-3693-42aa-bcc9-7980a46ed283",
        "colab": {
          "base_uri": "https://localhost:8080/"
        }
      },
      "execution_count": 23,
      "outputs": [
        {
          "output_type": "execute_result",
          "data": {
            "text/plain": [
              "[('John', 'NY', 150),\n",
              " ('Alice', 'CA', 200),\n",
              " ('Bob', 'TX', 300),\n",
              " ('Alice', 'CA', 200),\n",
              " ('Sam', 'NY', 100),\n",
              " ('Emma', 'FL', 250),\n",
              " ('Bob', 'TX', 300),\n",
              " ('Bob', 'TX', 300),\n",
              " ('Youssef', 'NC', 50),\n",
              " ('Youness', 'NY', 5000)]"
            ]
          },
          "metadata": {},
          "execution_count": 23
        }
      ]
    },
    {
      "cell_type": "code",
      "source": [
        "unique_records = set(sales_list_copy)\n"
      ],
      "metadata": {
        "id": "X54YQBhnr3Uh"
      },
      "execution_count": 24,
      "outputs": []
    },
    {
      "cell_type": "code",
      "source": [
        "unique_records"
      ],
      "metadata": {
        "id": "sNXa3CeRsGUW",
        "outputId": "72b56af5-e8a3-4ed5-8e8b-9fb27fbfff4a",
        "colab": {
          "base_uri": "https://localhost:8080/"
        }
      },
      "execution_count": 25,
      "outputs": [
        {
          "output_type": "execute_result",
          "data": {
            "text/plain": [
              "{('Alice', 'CA', 200),\n",
              " ('Bob', 'TX', 300),\n",
              " ('Emma', 'FL', 250),\n",
              " ('John', 'NY', 150),\n",
              " ('Sam', 'NY', 100),\n",
              " ('Youness', 'NY', 5000),\n",
              " ('Youssef', 'NC', 50)}"
            ]
          },
          "metadata": {},
          "execution_count": 25
        }
      ]
    },
    {
      "cell_type": "code",
      "source": [
        "len(unique_records)"
      ],
      "metadata": {
        "id": "3UjLKI2Lcwtb",
        "outputId": "469afff3-8e0f-4935-9560-e4c03b8629ee",
        "colab": {
          "base_uri": "https://localhost:8080/"
        }
      },
      "execution_count": 26,
      "outputs": [
        {
          "output_type": "execute_result",
          "data": {
            "text/plain": [
              "7"
            ]
          },
          "metadata": {},
          "execution_count": 26
        }
      ]
    },
    {
      "cell_type": "code",
      "source": [
        "total_sum = 0\n",
        "for item in unique_records:\n",
        "  # total_sum = total_sum + item[2]\n",
        "  total_sum += item[2]\n",
        "\n",
        "# avg = total_sum / 5\n",
        "# print(f\"Total sum is {total_sum} avg is {avg}\")\n",
        "print(f\"Total sum is {total_sum} avg is {total_sum / len(unique_records)}\")\n"
      ],
      "metadata": {
        "id": "YMcOg9rs7P41",
        "outputId": "ca5e5929-ff03-4bb6-c84d-5aeaf486fbdd",
        "colab": {
          "base_uri": "https://localhost:8080/"
        }
      },
      "execution_count": 27,
      "outputs": [
        {
          "output_type": "stream",
          "name": "stdout",
          "text": [
            "Total sum is 6050 avg is 864.2857142857143\n"
          ]
        }
      ]
    },
    {
      "cell_type": "code",
      "source": [
        "total_sum , avg"
      ],
      "metadata": {
        "id": "mijKT9rYsqDV"
      },
      "execution_count": null,
      "outputs": []
    },
    {
      "cell_type": "code",
      "source": [
        "dict_set = {\n",
        "    'CA' : 0,\n",
        "    'NY' : 0,\n",
        "    'TX' : 0,\n",
        "    'FL' : 0,\n",
        "    'NC' : 0,\n",
        "    'NY' : 0,\n",
        "\n",
        "}\n",
        "for item in unique_records:\n",
        "  dict_set[item[1]] += item[2]\n",
        "\n",
        "dict_set\n"
      ],
      "metadata": {
        "id": "Kfi45X1TtOPl",
        "outputId": "f7b4b61c-b7b5-45cc-cdcc-6146b42deb0d",
        "colab": {
          "base_uri": "https://localhost:8080/"
        }
      },
      "execution_count": 29,
      "outputs": [
        {
          "output_type": "execute_result",
          "data": {
            "text/plain": [
              "{'CA': 200, 'NY': 5250, 'TX': 300, 'FL': 250, 'NC': 50}"
            ]
          },
          "metadata": {},
          "execution_count": 29
        }
      ]
    },
    {
      "cell_type": "code",
      "source": [
        "highest_sales = 0\n",
        "highest_sales_person = \"\"\n",
        "\n",
        "for person, state, sales in unique_records:\n",
        "    if sales > highest_sales:\n",
        "        highest_sales = sales\n",
        "        highest_sales_person = person\n",
        "\n",
        "print(f\"{highest_sales_person} is the highest sales person with an amount of: {highest_sales}, \")\n"
      ],
      "metadata": {
        "id": "NafMaBX3yFn4",
        "outputId": "8d7bc0fd-f580-4263-8541-23cdbea90a27",
        "colab": {
          "base_uri": "https://localhost:8080/"
        }
      },
      "execution_count": 30,
      "outputs": [
        {
          "output_type": "stream",
          "name": "stdout",
          "text": [
            "Youness is the highest sales person with an amount of: 5000, \n"
          ]
        }
      ]
    }
  ]
}